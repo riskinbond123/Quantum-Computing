{
  "cells": [
    {
      "cell_type": "code",
      "execution_count": 133,
      "metadata": {
        "trusted": true
      },
      "outputs": [
        {
          "name": "stderr",
          "output_type": "stream",
          "text": "ibmqfactory.load_account:WARNING:2020-10-11 19:03:41,856: Credentials are already in use. The existing account in the session will be replaced.\n"
        }
      ],
      "source": "%matplotlib inline\n# Importing standard Qiskit libraries and configuring account\nfrom qiskit import QuantumCircuit, execute, Aer, IBMQ\nfrom qiskit.compiler import transpile, assemble\nfrom qiskit.tools.jupyter import *\nfrom qiskit.visualization import *\n# Loading your IBM Q account(s)\nprovider = IBMQ.load_account()\nimport math"
    },
    {
      "cell_type": "code",
      "execution_count": 135,
      "metadata": {
        "scrolled": true,
        "trusted": true
      },
      "outputs": [
        {
          "name": "stdout",
          "output_type": "stream",
          "text": "Please enter the number of sides of your die: 6\n"
        }
      ],
      "source": "sides = int(input(\"Please enter the number of sides of your die: \"))\n"
    },
    {
      "cell_type": "code",
      "execution_count": 136,
      "metadata": {
        "trusted": true
      },
      "outputs": [],
      "source": "def qubit_calculator(n):\n    result = 0\n    while n != 1:\n        result = result + 1\n        n = math.ceil(n/2)\n    return result"
    },
    {
      "cell_type": "code",
      "execution_count": 137,
      "metadata": {
        "trusted": true
      },
      "outputs": [],
      "source": "Qubits=Cbits = qubit_calculator(sides)"
    },
    {
      "cell_type": "code",
      "execution_count": 138,
      "metadata": {
        "trusted": true
      },
      "outputs": [],
      "source": "qc = QuantumCircuit(Qubits,Cbits) #Qubits and Cbits would be equal  \nfor i in range(0,qubit_calculator(sides)):\n    qc.h(i)# Adds the Hagamard gate to each Qubit"
    },
    {
      "cell_type": "code",
      "execution_count": 139,
      "metadata": {
        "trusted": true
      },
      "outputs": [
        {
          "data": {
            "text/plain": "<qiskit.circuit.instructionset.InstructionSet at 0x7fc6acea2e10>"
          },
          "execution_count": 139,
          "metadata": {},
          "output_type": "execute_result"
        }
      ],
      "source": "qc.measure(range(Qubits),range(Cbits))"
    },
    {
      "cell_type": "code",
      "execution_count": 140,
      "metadata": {
        "trusted": true
      },
      "outputs": [
        {
          "data": {
            "image/png": "[encoded data removed]",
            "text/plain": "<Figure size 381.577x264.88 with 1 Axes>"
          },
          "execution_count": 140,
          "metadata": {},
          "output_type": "execute_result"
        }
      ],
      "source": "qc.draw()"
    },
    {
      "cell_type": "code",
      "execution_count": 234,
      "metadata": {
        "trusted": true
      },
      "outputs": [],
      "source": "def random_number_pick():\n    backend = Aer.get_backend('qasm_simulator')\n    job_simulator = execute(qc, backend, shots = 1)\n    result_simulator = job_simulator.result()\n    counts = result_simulator.get_counts(qc)\n    return counts"
    },
    {
      "cell_type": "code",
      "execution_count": 235,
      "metadata": {
        "trusted": true
      },
      "outputs": [],
      "source": "def roll():\n    counts = random_number_pick()\n    outcome = int(list(counts.keys())[0],2)+1\n    while outcome > sides:\n        counts = random_number_pick()\n        outcome = int(list(counts.keys())[0],2)+1\n    return outcome\n"
    },
    {
      "cell_type": "code",
      "execution_count": 239,
      "metadata": {
        "trusted": true
      },
      "outputs": [],
      "source": "from qiskit.visualization import plot_histogram"
    },
    {
      "cell_type": "code",
      "execution_count": 246,
      "metadata": {
        "trusted": true
      },
      "outputs": [
        {
          "data": {
            "image/png": "[encoded data removed]",
            "text/plain": "<Figure size 504x360 with 1 Axes>"
          },
          "execution_count": 246,
          "metadata": {},
          "output_type": "execute_result"
        }
      ],
      "source": "outcome_distribution = {}\nfor i in range(0,10000):\n    value = roll()\n    if value in outcome_distribution:\n        outcome_distribution[value] = outcome_distribution[value] + 1\n    else:\n        outcome_distribution[value] = 0\nplot_histogram(outcome_distribution)"
    },
    {
      "cell_type": "code",
      "execution_count": 230,
      "metadata": {
        "trusted": true
      },
      "outputs": [
        {
          "name": "stdout",
          "output_type": "stream",
          "text": "319 350.0\n"
        }
      ],
      "source": ""
    },
    {
      "cell_type": "code",
      "execution_count": null,
      "metadata": {
        "trusted": true
      },
      "outputs": [],
      "source": ""
    }
  ],
  "metadata": {
    "kernelspec": {
      "display_name": "Python 3",
      "language": "python",
      "name": "python3"
    },
    "language_info": {
      "codemirror_mode": {
        "name": "ipython",
        "version": 3
      },
      "file_extension": ".py",
      "mimetype": "text/x-python",
      "name": "python",
      "nbconvert_exporter": "python",
      "pygments_lexer": "ipython3",
      "version": "3.7.8"
    }
  },
  "nbformat": 4,
  "nbformat_minor": 4
}