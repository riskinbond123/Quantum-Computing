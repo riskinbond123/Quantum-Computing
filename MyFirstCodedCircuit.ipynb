{
  "cells": [
    {
      "cell_type": "code",
      "execution_count": 48,
      "metadata": {
        "trusted": true
      },
      "outputs": [
        {
          "name": "stderr",
          "output_type": "stream",
          "text": "ibmqfactory.load_account:WARNING:2020-10-11 02:43:59,901: Credentials are already in use. The existing account in the session will be replaced.\n"
        }
      ],
      "source": "%matplotlib inline\n# Importing standard Qiskit libraries and configuring account\nfrom qiskit import QuantumCircuit, execute, Aer, IBMQ\nfrom qiskit.compiler import transpile, assemble\nfrom qiskit.tools.jupyter import *\nfrom qiskit.visualization import *\n# Loading your IBM Q account(s)\nprovider = IBMQ.load_account()"
    },
    {
      "cell_type": "code",
      "execution_count": 49,
      "metadata": {
        "trusted": true
      },
      "outputs": [
        {
          "data": {
            "text/plain": "<qiskit.circuit.instructionset.InstructionSet at 0x7f5c04b83e50>"
          },
          "execution_count": 49,
          "metadata": {},
          "output_type": "execute_result"
        }
      ],
      "source": "qc = QuantumCircuit(2,2)  #Creates a Quantum circuit with 2 Qubits and 2 Classical bits\nqc.h(0) # Adds the Hagamard gate onto the first Qubit\nqc.cx(0,1) # Entangles the first Qubit as control to the second Qubit"
    },
    {
      "cell_type": "code",
      "execution_count": 50,
      "metadata": {
        "trusted": true
      },
      "outputs": [
        {
          "data": {
            "text/plain": "<qiskit.circuit.instructionset.InstructionSet at 0x7f5c04b83710>"
          },
          "execution_count": 50,
          "metadata": {},
          "output_type": "execute_result"
        }
      ],
      "source": "qc.measure([0,1], [0,1]) # Adds the measurement operation to our circuit"
    },
    {
      "cell_type": "code",
      "execution_count": 51,
      "metadata": {
        "trusted": true
      },
      "outputs": [
        {
          "data": {
            "image/png": "[encoded data removed]",
            "text/plain": "<Figure size 381.432x204.68 with 1 Axes>"
          },
          "execution_count": 51,
          "metadata": {},
          "output_type": "execute_result"
        }
      ],
      "source": "qc.draw() # Draws our Quantum Circuit"
    },
    {
      "cell_type": "code",
      "execution_count": 52,
      "metadata": {
        "trusted": true
      },
      "outputs": [],
      "source": "backend = provider.get_backend('ibmq_vigo') #Creates a backend object which will connect to the specified Q device or simulator"
    },
    {
      "cell_type": "code",
      "execution_count": 53,
      "metadata": {
        "trusted": true
      },
      "outputs": [],
      "source": "job_simulator = execute(qc, backend, shots=1024) #Returns a job object with contents of the executed circuit on the backend"
    },
    {
      "cell_type": "code",
      "execution_count": null,
      "metadata": {
        "trusted": true
      },
      "outputs": [],
      "source": "result_simulator = job_simulator.result()"
    },
    {
      "cell_type": "code",
      "execution_count": null,
      "metadata": {
        "trusted": true
      },
      "outputs": [],
      "source": "counts = result_simulator.get_counts(qc) # Get a count of the results in accordance to the number of shots\nprint(counts)"
    },
    {
      "cell_type": "code",
      "execution_count": null,
      "metadata": {
        "trusted": true
      },
      "outputs": [],
      "source": "from qiskit.visualization import plot_histogram\nplot_histogram(counts)"
    },
    {
      "cell_type": "code",
      "execution_count": null,
      "metadata": {
        "trusted": true
      },
      "outputs": [],
      "source": "provider.backends() # prints a list of Q devices available to me"
    },
    {
      "cell_type": "code",
      "execution_count": null,
      "metadata": {
        "trusted": true
      },
      "outputs": [],
      "source": ""
    }
  ],
  "metadata": {
    "kernelspec": {
      "display_name": "Python 3",
      "language": "python",
      "name": "python3"
    },
    "language_info": {
      "codemirror_mode": {
        "name": "ipython",
        "version": 3
      },
      "file_extension": ".py",
      "mimetype": "text/x-python",
      "name": "python",
      "nbconvert_exporter": "python",
      "pygments_lexer": "ipython3",
      "version": "3.7.8"
    }
  },
  "nbformat": 4,
  "nbformat_minor": 4
}